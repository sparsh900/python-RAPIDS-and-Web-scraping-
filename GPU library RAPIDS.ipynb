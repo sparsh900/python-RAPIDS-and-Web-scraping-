{
  "nbformat": 4,
  "nbformat_minor": 5,
  "metadata": {
    "kernelspec": {
      "display_name": "Python 3",
      "language": "python",
      "name": "python3"
    },
    "language_info": {
      "codemirror_mode": {
        "name": "ipython",
        "version": 3
      },
      "file_extension": ".py",
      "mimetype": "text/x-python",
      "name": "python",
      "nbconvert_exporter": "python",
      "pygments_lexer": "ipython3",
      "version": "3.7.10"
    },
    "colab": {
      "name": "Assignment-3 101903598.ipynb",
      "provenance": [],
      "collapsed_sections": []
    }
  },
  "cells": [
    {
      "cell_type": "code",
      "metadata": {
        "id": "036a90ad-5bef-465a-8bb3-45095ca51abf"
      },
      "source": [
        "import cupy\n",
        "import cudf\n",
        "import cuml"
      ],
      "id": "036a90ad-5bef-465a-8bb3-45095ca51abf",
      "execution_count": null,
      "outputs": []
    },
    {
      "cell_type": "code",
      "metadata": {
        "id": "f33a2c25-fe7c-4407-85e6-1c0a7f834983"
      },
      "source": [
        "df=cudf.read_csv('USA_Housing.csv')"
      ],
      "id": "f33a2c25-fe7c-4407-85e6-1c0a7f834983",
      "execution_count": null,
      "outputs": []
    },
    {
      "cell_type": "code",
      "metadata": {
        "id": "79b3b13c-4bd7-419f-93b5-b94f57de3e26",
        "outputId": "024ea3fa-21d9-4dc6-d64c-32121abd8022"
      },
      "source": [
        "df.head"
      ],
      "id": "79b3b13c-4bd7-419f-93b5-b94f57de3e26",
      "execution_count": null,
      "outputs": [
        {
          "data": {
            "text/plain": [
              "<bound method DataFrame.head of       Avg. Area Income  Avg. Area House Age  Avg. Area Number of Rooms  \\\n",
              "0          79545.45857             5.682861                   7.009188   \n",
              "1          79248.64245             6.002900                   6.730821   \n",
              "2          61287.06718             5.865890                   8.512727   \n",
              "3          63345.24005             7.188236                   5.586729   \n",
              "4          59982.19723             5.040555                   7.839388   \n",
              "...                ...                  ...                        ...   \n",
              "4995       60567.94414             7.830362                   6.137356   \n",
              "4996       78491.27543             6.999135                   6.576763   \n",
              "4997       63390.68689             7.250591                   4.805081   \n",
              "4998       68001.33124             5.534388                   7.130144   \n",
              "4999       65510.58180             5.992305                   6.792336   \n",
              "\n",
              "      Avg. Area Number of Bedrooms  Area Population         Price  \n",
              "0                             4.09      23086.80050  1.059034e+06  \n",
              "1                             3.09      40173.07217  1.505891e+06  \n",
              "2                             5.13      36882.15940  1.058988e+06  \n",
              "3                             3.26      34310.24283  1.260617e+06  \n",
              "4                             4.23      26354.10947  6.309435e+05  \n",
              "...                            ...              ...           ...  \n",
              "4995                          3.46      22837.36103  1.060194e+06  \n",
              "4996                          4.02      25616.11549  1.482618e+06  \n",
              "4997                          2.13      33266.14549  1.030730e+06  \n",
              "4998                          5.44      42625.62016  1.198657e+06  \n",
              "4999                          4.07      46501.28380  1.298950e+06  \n",
              "\n",
              "[5000 rows x 6 columns]>"
            ]
          },
          "execution_count": 5,
          "metadata": {},
          "output_type": "execute_result"
        }
      ]
    },
    {
      "cell_type": "code",
      "metadata": {
        "id": "b6e1dda7-e15f-4f2d-a353-937ebaf60920",
        "outputId": "90db3728-a7b4-4bbf-a6db-10cac8e75aa6"
      },
      "source": [
        "df.info()"
      ],
      "id": "b6e1dda7-e15f-4f2d-a353-937ebaf60920",
      "execution_count": null,
      "outputs": [
        {
          "name": "stdout",
          "output_type": "stream",
          "text": [
            "<class 'cudf.core.dataframe.DataFrame'>\n",
            "RangeIndex: 5000 entries, 0 to 4999\n",
            "Data columns (total 6 columns):\n",
            " #   Column                        Non-Null Count  Dtype\n",
            "---  ------                        --------------  -----\n",
            " 0   Avg. Area Income              5000 non-null   float64\n",
            " 1   Avg. Area House Age           5000 non-null   float64\n",
            " 2   Avg. Area Number of Rooms     5000 non-null   float64\n",
            " 3   Avg. Area Number of Bedrooms  5000 non-null   float64\n",
            " 4   Area Population               5000 non-null   float64\n",
            " 5   Price                         5000 non-null   float64\n",
            "dtypes: float64(6)\n",
            "memory usage: 234.4 KB\n"
          ]
        }
      ]
    },
    {
      "cell_type": "code",
      "metadata": {
        "id": "f2de7820-a597-48b0-8d35-11fada40d0cd",
        "outputId": "eb218543-716d-414c-cbee-5e5b292c6458"
      },
      "source": [
        "%%time\n",
        "df=df.sample(frac=1).reset_index(drop=True)"
      ],
      "id": "f2de7820-a597-48b0-8d35-11fada40d0cd",
      "execution_count": null,
      "outputs": [
        {
          "name": "stdout",
          "output_type": "stream",
          "text": [
            "CPU times: user 2.03 ms, sys: 284 µs, total: 2.31 ms\n",
            "Wall time: 1.55 ms\n"
          ]
        }
      ]
    },
    {
      "cell_type": "code",
      "metadata": {
        "id": "a7a82062-61b1-4aac-a664-c88189144356",
        "outputId": "38c298d9-53cb-492b-9bef-0f23748e8b2d"
      },
      "source": [
        "%%time\n",
        "X=df.iloc[:,:5]\n",
        "Y=df.iloc[:,5]"
      ],
      "id": "a7a82062-61b1-4aac-a664-c88189144356",
      "execution_count": null,
      "outputs": [
        {
          "name": "stdout",
          "output_type": "stream",
          "text": [
            "CPU times: user 2.11 ms, sys: 586 µs, total: 2.69 ms\n",
            "Wall time: 2.44 ms\n"
          ]
        }
      ]
    },
    {
      "cell_type": "code",
      "metadata": {
        "id": "e5796ade-08c1-4c2e-a029-e6e8b498fc69",
        "outputId": "859403fa-3839-4154-aaf7-6b30627f38a4"
      },
      "source": [
        "%%time\n",
        "from cuml.preprocessing import StandardScaler\n",
        "ss=StandardScaler()\n",
        "X_scaled=ss.fit_transform(X)\n",
        "X_scaled.insert(loc=0,value=1.0,name='Ones')\n",
        "X_scaled"
      ],
      "id": "e5796ade-08c1-4c2e-a029-e6e8b498fc69",
      "execution_count": null,
      "outputs": [
        {
          "name": "stdout",
          "output_type": "stream",
          "text": [
            "CPU times: user 340 ms, sys: 15.9 ms, total: 356 ms\n",
            "Wall time: 355 ms\n"
          ]
        },
        {
          "data": {
            "text/html": [
              "<div>\n",
              "<style scoped>\n",
              "    .dataframe tbody tr th:only-of-type {\n",
              "        vertical-align: middle;\n",
              "    }\n",
              "\n",
              "    .dataframe tbody tr th {\n",
              "        vertical-align: top;\n",
              "    }\n",
              "\n",
              "    .dataframe thead th {\n",
              "        text-align: right;\n",
              "    }\n",
              "</style>\n",
              "<table border=\"1\" class=\"dataframe\">\n",
              "  <thead>\n",
              "    <tr style=\"text-align: right;\">\n",
              "      <th></th>\n",
              "      <th>Ones</th>\n",
              "      <th>0</th>\n",
              "      <th>1</th>\n",
              "      <th>2</th>\n",
              "      <th>3</th>\n",
              "      <th>4</th>\n",
              "    </tr>\n",
              "  </thead>\n",
              "  <tbody>\n",
              "    <tr>\n",
              "      <th>0</th>\n",
              "      <td>1.0</td>\n",
              "      <td>-0.057285</td>\n",
              "      <td>-0.484743</td>\n",
              "      <td>-0.646798</td>\n",
              "      <td>-0.616954</td>\n",
              "      <td>-0.836118</td>\n",
              "    </tr>\n",
              "    <tr>\n",
              "      <th>1</th>\n",
              "      <td>1.0</td>\n",
              "      <td>-1.892183</td>\n",
              "      <td>-0.122752</td>\n",
              "      <td>-0.872681</td>\n",
              "      <td>0.047544</td>\n",
              "      <td>0.539050</td>\n",
              "    </tr>\n",
              "    <tr>\n",
              "      <th>2</th>\n",
              "      <td>1.0</td>\n",
              "      <td>-0.247181</td>\n",
              "      <td>-1.987382</td>\n",
              "      <td>1.855939</td>\n",
              "      <td>-0.714198</td>\n",
              "      <td>0.513610</td>\n",
              "    </tr>\n",
              "    <tr>\n",
              "      <th>3</th>\n",
              "      <td>1.0</td>\n",
              "      <td>0.703111</td>\n",
              "      <td>-0.207309</td>\n",
              "      <td>0.839329</td>\n",
              "      <td>-0.552125</td>\n",
              "      <td>0.923363</td>\n",
              "    </tr>\n",
              "    <tr>\n",
              "      <th>4</th>\n",
              "      <td>1.0</td>\n",
              "      <td>1.071384</td>\n",
              "      <td>-0.367598</td>\n",
              "      <td>-1.071636</td>\n",
              "      <td>-0.657472</td>\n",
              "      <td>0.612810</td>\n",
              "    </tr>\n",
              "    <tr>\n",
              "      <th>...</th>\n",
              "      <td>...</td>\n",
              "      <td>...</td>\n",
              "      <td>...</td>\n",
              "      <td>...</td>\n",
              "      <td>...</td>\n",
              "      <td>...</td>\n",
              "    </tr>\n",
              "    <tr>\n",
              "      <th>4995</th>\n",
              "      <td>1.0</td>\n",
              "      <td>-1.647482</td>\n",
              "      <td>-1.118030</td>\n",
              "      <td>0.215477</td>\n",
              "      <td>0.063751</td>\n",
              "      <td>-1.240347</td>\n",
              "    </tr>\n",
              "    <tr>\n",
              "      <th>4996</th>\n",
              "      <td>1.0</td>\n",
              "      <td>0.128234</td>\n",
              "      <td>0.857907</td>\n",
              "      <td>-1.114892</td>\n",
              "      <td>0.347379</td>\n",
              "      <td>0.842100</td>\n",
              "    </tr>\n",
              "    <tr>\n",
              "      <th>4997</th>\n",
              "      <td>1.0</td>\n",
              "      <td>0.972947</td>\n",
              "      <td>-0.538840</td>\n",
              "      <td>-1.221208</td>\n",
              "      <td>-1.459732</td>\n",
              "      <td>-0.514725</td>\n",
              "    </tr>\n",
              "    <tr>\n",
              "      <th>4998</th>\n",
              "      <td>1.0</td>\n",
              "      <td>0.362834</td>\n",
              "      <td>0.057687</td>\n",
              "      <td>-0.267299</td>\n",
              "      <td>0.387897</td>\n",
              "      <td>0.796269</td>\n",
              "    </tr>\n",
              "    <tr>\n",
              "      <th>4999</th>\n",
              "      <td>1.0</td>\n",
              "      <td>1.847634</td>\n",
              "      <td>0.708328</td>\n",
              "      <td>0.829168</td>\n",
              "      <td>0.898426</td>\n",
              "      <td>-1.660212</td>\n",
              "    </tr>\n",
              "  </tbody>\n",
              "</table>\n",
              "<p>5000 rows × 6 columns</p>\n",
              "</div>"
            ],
            "text/plain": [
              "      Ones         0         1         2         3         4\n",
              "0      1.0 -0.057285 -0.484743 -0.646798 -0.616954 -0.836118\n",
              "1      1.0 -1.892183 -0.122752 -0.872681  0.047544  0.539050\n",
              "2      1.0 -0.247181 -1.987382  1.855939 -0.714198  0.513610\n",
              "3      1.0  0.703111 -0.207309  0.839329 -0.552125  0.923363\n",
              "4      1.0  1.071384 -0.367598 -1.071636 -0.657472  0.612810\n",
              "...    ...       ...       ...       ...       ...       ...\n",
              "4995   1.0 -1.647482 -1.118030  0.215477  0.063751 -1.240347\n",
              "4996   1.0  0.128234  0.857907 -1.114892  0.347379  0.842100\n",
              "4997   1.0  0.972947 -0.538840 -1.221208 -1.459732 -0.514725\n",
              "4998   1.0  0.362834  0.057687 -0.267299  0.387897  0.796269\n",
              "4999   1.0  1.847634  0.708328  0.829168  0.898426 -1.660212\n",
              "\n",
              "[5000 rows x 6 columns]"
            ]
          },
          "execution_count": 11,
          "metadata": {},
          "output_type": "execute_result"
        }
      ]
    },
    {
      "cell_type": "code",
      "metadata": {
        "id": "7ca11534-0414-427e-98ff-3f3d48ba22af",
        "outputId": "b8dfa79e-2a38-471f-c137-c16e6788c3a9"
      },
      "source": [
        "%%time\n",
        "X_divided=[X_scaled[0:1000],X_scaled[1000:2000],X_scaled[2000:3000],X_scaled[3000:4000],X_scaled[4000:5000]]\n",
        "Y_divided=[Y[0:1000],Y[1000:2000],Y[2000:3000],Y[3000:4000],Y[4000:5000]]"
      ],
      "id": "7ca11534-0414-427e-98ff-3f3d48ba22af",
      "execution_count": null,
      "outputs": [
        {
          "name": "stdout",
          "output_type": "stream",
          "text": [
            "CPU times: user 2.21 ms, sys: 0 ns, total: 2.21 ms\n",
            "Wall time: 2.15 ms\n"
          ]
        }
      ]
    },
    {
      "cell_type": "code",
      "metadata": {
        "id": "ae7cd38a-c0e4-4b10-8d4b-ab13f6e1aa09",
        "outputId": "fa9ffb9a-0c81-4dd7-b450-523ef195f94b"
      },
      "source": [
        "%%time\n",
        "beta_values=[]\n",
        "R2_values=[]\n",
        "maxR2=0\n",
        "max_index=0\n",
        "for i in range(0,5):\n",
        "    trainX=[]\n",
        "    trainY=[]\n",
        "    for j in range(0,5):\n",
        "        if j!=i:\n",
        "            trainX.append(X_divided[j])\n",
        "            trainY.append(Y_divided[j])\n",
        "    X_train=cudf.concat(trainX,axis=0)\n",
        "    Y_train=cudf.concat(trainY,axis=0)\n",
        "    X_test=X_divided[i]\n",
        "    Y_test=Y_divided[i]\n",
        "    A=X_train.values.T.dot(X_train.values)\n",
        "    B=cupy.linalg.inv(A)\n",
        "    C=B.dot(X_train.values.T)\n",
        "    beta=C.dot(Y_train.values)\n",
        "    Y_predict=X_test.values.dot(beta)\n",
        "    beta_values.append(beta)\n",
        "    error=Y_predict-Y_test.values\n",
        "    sse=cupy.sum(error**2)\n",
        "    y_mean=cupy.mean(Y_test)\n",
        "    total_variance=cupy.sum((Y_test.values-y_mean)**2)\n",
        "    r2=1-sse/total_variance\n",
        "    R2_values.append(r2)\n",
        "    if(r2>maxR2):\n",
        "        maxR2=r2\n",
        "        max_index=i\n",
        "print(beta_values)\n",
        "print(R2_values)\n",
        "print(max_index)"
      ],
      "id": "ae7cd38a-c0e4-4b10-8d4b-ab13f6e1aa09",
      "execution_count": null,
      "outputs": [
        {
          "name": "stdout",
          "output_type": "stream",
          "text": [
            "[array([1231404.68195074,  230617.20864979,  165482.32432908,\n",
            "        120105.38586486,    2446.08479462,  150066.40345121]), array([1232190.16198702,  228075.62456364,  163341.45319771,\n",
            "        121558.20015731,    2085.37373344,  150556.96282067]), array([1.23075565e+06, 2.30312779e+05, 1.65065115e+05, 1.22571973e+05,\n",
            "       7.00910620e+02, 1.51970590e+05]), array([1232234.59152172,  229564.06053859,  163911.44313782,\n",
            "        120630.1250546 ,    2024.08962387,  150968.97439235]), array([1233766.99491969,  231244.72482446,  163282.00943295,\n",
            "        121829.77902768,    2985.6913637 ,  150823.08995367])]\n",
            "[array(0.91781252), array(0.9157366), array(0.91780696), array(0.92015321), array(0.91679183)]\n",
            "3\n",
            "CPU times: user 1.15 s, sys: 15.3 ms, total: 1.16 s\n",
            "Wall time: 1.16 s\n"
          ]
        }
      ]
    },
    {
      "cell_type": "code",
      "metadata": {
        "id": "b241f8a2-97b3-4b42-8dce-7e18c7873889",
        "outputId": "f4c564f6-8bfe-491c-8019-86dfa779f52e"
      },
      "source": [
        "%%time\n",
        "betaMax=beta_values[max_index]"
      ],
      "id": "b241f8a2-97b3-4b42-8dce-7e18c7873889",
      "execution_count": null,
      "outputs": [
        {
          "name": "stdout",
          "output_type": "stream",
          "text": [
            "CPU times: user 2 µs, sys: 0 ns, total: 2 µs\n",
            "Wall time: 5.01 µs\n"
          ]
        }
      ]
    },
    {
      "cell_type": "code",
      "metadata": {
        "id": "c49463e6-0b24-4a6a-8ce7-e48c62ea3a44",
        "outputId": "5929a576-50e0-48ec-e8f5-a8b826f23aea"
      },
      "source": [
        "betaMax"
      ],
      "id": "c49463e6-0b24-4a6a-8ce7-e48c62ea3a44",
      "execution_count": null,
      "outputs": [
        {
          "data": {
            "text/plain": [
              "array([1232234.59152172,  229564.06053859,  163911.44313782,\n",
              "        120630.1250546 ,    2024.08962387,  150968.97439235])"
            ]
          },
          "execution_count": 21,
          "metadata": {},
          "output_type": "execute_result"
        }
      ]
    },
    {
      "cell_type": "code",
      "metadata": {
        "id": "838243d0-fa77-492e-83ae-3d9741974d86",
        "outputId": "395a4c1e-49c0-4839-f3e9-eb9910e4bb40"
      },
      "source": [
        "%%time\n",
        "from cuml.model_selection import train_test_split\n",
        "X_train1,X_test1,Y_train1,Y_test1=train_test_split(X_scaled,Y,test_size=0.30,random_state=42)"
      ],
      "id": "838243d0-fa77-492e-83ae-3d9741974d86",
      "execution_count": null,
      "outputs": [
        {
          "name": "stdout",
          "output_type": "stream",
          "text": [
            "CPU times: user 805 ms, sys: 3.27 ms, total: 809 ms\n",
            "Wall time: 808 ms\n"
          ]
        }
      ]
    },
    {
      "cell_type": "code",
      "metadata": {
        "id": "115dda7b-8086-4ebf-8fc3-e1dc5016ab3c",
        "outputId": "1ff0b42b-495c-41d2-8b05-39bc06c69ff3"
      },
      "source": [
        "%%time\n",
        "Y_predict=X_test1.values.dot(betaMax)\n",
        "error=Y_predict-Y_test1.values\n",
        "sse=cupy.sum(error**2)\n",
        "total_variance=cupy.sum((Y_test1.values-y_mean)**2)\n",
        "r2_final=1-sse/total_variance\n",
        "print(r2_final)"
      ],
      "id": "115dda7b-8086-4ebf-8fc3-e1dc5016ab3c",
      "execution_count": null,
      "outputs": [
        {
          "name": "stdout",
          "output_type": "stream",
          "text": [
            "0.9204524967946758\n",
            "CPU times: user 2.63 ms, sys: 186 µs, total: 2.82 ms\n",
            "Wall time: 2.07 ms\n"
          ]
        }
      ]
    },
    {
      "cell_type": "code",
      "metadata": {
        "id": "ea10d6f7-df24-4893-b1bc-16282068003f",
        "outputId": "b0510013-3ad3-482e-d2f2-5b8990e5b90b"
      },
      "source": [
        "%%time\n",
        "import numpy as np\n",
        "import pandas as pd\n",
        "df1=pd.read_csv('USA_Housing.csv')\n",
        "X1=df1.iloc[:,:5]\n",
        "Y1=df1.iloc[:,5]\n",
        "from sklearn.preprocessing import StandardScaler\n",
        "ss=StandardScaler()\n",
        "X_scaled1=ss.fit_transform(X1)"
      ],
      "id": "ea10d6f7-df24-4893-b1bc-16282068003f",
      "execution_count": null,
      "outputs": [
        {
          "name": "stdout",
          "output_type": "stream",
          "text": [
            "CPU times: user 7.24 ms, sys: 0 ns, total: 7.24 ms\n",
            "Wall time: 6.71 ms\n"
          ]
        }
      ]
    },
    {
      "cell_type": "code",
      "metadata": {
        "id": "900eade8-2eb2-4313-a36b-1a2fe3646bbe",
        "outputId": "d3bffbbb-9a92-4aef-84a1-624ee6c5fd88"
      },
      "source": [
        "%%time\n",
        "from sklearn.model_selection import train_test_split\n",
        "X_train2,X_test2,Y_train2,Y_test2=train_test_split(X_scaled1,Y1,test_size=0.25,random_state=42)"
      ],
      "id": "900eade8-2eb2-4313-a36b-1a2fe3646bbe",
      "execution_count": null,
      "outputs": [
        {
          "name": "stdout",
          "output_type": "stream",
          "text": [
            "CPU times: user 1.59 ms, sys: 0 ns, total: 1.59 ms\n",
            "Wall time: 1.1 ms\n"
          ]
        }
      ]
    },
    {
      "cell_type": "code",
      "metadata": {
        "id": "033a660c-b7e3-4a2d-8d58-ca24b2890f91",
        "outputId": "f28ddcf1-004b-4042-891c-e21c555b94cb"
      },
      "source": [
        "%%time\n",
        "from sklearn.linear_model import LinearRegression\n",
        "lr=LinearRegression()\n",
        "lr.fit(X_train2,Y_train2)\n",
        "print(lr.score(X_test2,Y_test2))"
      ],
      "id": "033a660c-b7e3-4a2d-8d58-ca24b2890f91",
      "execution_count": null,
      "outputs": [
        {
          "name": "stdout",
          "output_type": "stream",
          "text": [
            "0.9169678829400091\n",
            "CPU times: user 1.9 ms, sys: 0 ns, total: 1.9 ms\n",
            "Wall time: 1.41 ms\n"
          ]
        }
      ]
    },
    {
      "cell_type": "code",
      "metadata": {
        "id": "0f9d7033-85f2-4c88-ae3e-a0e80914d127",
        "outputId": "60fef7a9-6d71-465e-d77e-6056077a3bce"
      },
      "source": [
        "%%time\n",
        "from cuml.linear_model import LinearRegression\n",
        "Lr=LinearRegression()\n",
        "Lr.fit(X_train2,Y_train2)\n",
        "print(Lr.score(X_test2,Y_test2))"
      ],
      "id": "0f9d7033-85f2-4c88-ae3e-a0e80914d127",
      "execution_count": null,
      "outputs": [
        {
          "name": "stdout",
          "output_type": "stream",
          "text": [
            "0.9169678829400092\n",
            "CPU times: user 216 ms, sys: 0 ns, total: 216 ms\n",
            "Wall time: 215 ms\n"
          ]
        }
      ]
    }
  ]
}