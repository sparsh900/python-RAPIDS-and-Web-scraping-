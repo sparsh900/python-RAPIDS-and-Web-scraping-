{
  "nbformat": 4,
  "nbformat_minor": 0,
  "metadata": {
    "colab": {
      "name": "ASSIGNMENT-7_SPARSH GOYAL_101903598_COE7.ipynb",
      "provenance": [],
      "collapsed_sections": []
    },
    "kernelspec": {
      "name": "python3",
      "display_name": "Python 3"
    },
    "language_info": {
      "name": "python"
    }
  },
  "cells": [
    {
      "cell_type": "code",
      "metadata": {
        "id": "3m76zyONCdWz"
      },
      "source": [
        "import requests as rq\n",
        "import pandas as pd"
      ],
      "execution_count": 101,
      "outputs": []
    },
    {
      "cell_type": "code",
      "metadata": {
        "id": "Mx3AzoSEET8I"
      },
      "source": [
        "list=[]\n",
        "id_list=[]"
      ],
      "execution_count": 102,
      "outputs": []
    },
    {
      "cell_type": "code",
      "metadata": {
        "id": "m0CXR2E7Em97"
      },
      "source": [
        "def webscrap(p):\n",
        "  url = 'https://api.themoviedb.org/3/discover/movie?api_key=fd7af4cb49f666926527926361e177cc&language=en-US&sort_by=popularity.desc&include_adult=false&include_video=false&page='+str(p)+'&primary_release_year=2000&with_genres=Comedy'\n",
        "  response = rq.get(url)\n",
        "  response_json = response.json()\n",
        "  x=response_json['results']\n",
        "  for i in range(0,len(x)):\n",
        "    id_list.append(x[i]['id'])\n",
        "    list.append(str(x[i]['id'])+','+str(x[i]['original_title']))\n",
        "    \n"
      ],
      "execution_count": 103,
      "outputs": []
    },
    {
      "cell_type": "code",
      "metadata": {
        "id": "bmqClkhyF_yJ"
      },
      "source": [
        "i=1\n",
        "while len(list)<300:\n",
        "  webscrap(i)\n",
        "  i=i+1"
      ],
      "execution_count": 104,
      "outputs": []
    },
    {
      "cell_type": "code",
      "metadata": {
        "colab": {
          "base_uri": "https://localhost:8080/"
        },
        "id": "wUATX9q4GUxE",
        "outputId": "bd9084e9-871c-436c-aa93-b78c8790a87b"
      },
      "source": [
        "print(list)"
      ],
      "execution_count": 105,
      "outputs": [
        {
          "output_type": "stream",
          "name": "stdout",
          "text": [
            "['10867,Malèna', '8871,How the Grinch Stole Christmas', '4247,Scary Movie', \"11688,The Emperor's New Groove\", '10567,Dinosaur', '118365,Moses, Prince of Egypt', '16366,Joseph: King of Dreams', '98,Gladiator', '9532,Final Destination', '10501,The Road to El Dorado', '7443,Chicken Run', '11978,Men of Honor', '44321,La virgen de los sicarios', '1359,American Psycho', '16234,Batman Beyond: Return of the Joker', '11531,Book of Shadows: Blair Witch 2', '955,Mission: Impossible II', '8358,Cast Away', '4234,Scream 3', '2123,Me, Myself & Irene', '1636,Bedazzled', '71618,After Sex', \"9600,Big Momma's House\", '10577,Dracula 2000', '3981,What Women Want', '55,Amores perros', '9679,Gone in Sixty Seconds', '19576,ワンピース', '24100,The Little Vampire', '77,Memento', \"4327,Charlie's Angels\", '2332,Taxi 2', '9741,Unbreakable', '10471,Next Friday', '15999,吸血鬼ハンターD ブラッドラスト', '12597,Hellraiser: Inferno', '5994,The Family Man', '9871,Ginger Snaps', '18011,Leprechaun in the Hood', '2024,The Patriot', '9383,Hollow Man', '107,Snatch', '9678,Little Nicky', '1493,Miss Congeniality', '786,Almost Famous', '8584,Shanghai Noon', '22705,Tra(sgre)dire', '919,Blood: The Last Vampire', '4226,Shriek If You Know What I Did Last Friday the Thirteenth', '10637,Remember the Titans', '6282,Coyote Ugly', '146,卧虎藏龍', '3176,バトル・ロワイアル', '134,O Brother, Where Art Thou?', '9285,Road Trip', '2085,Romeo Must Die', '15653,An Extremely Goofy Movie', '10991,劇場版ポケットモンスター 結晶塔の帝王 エンテイ', '843,花樣年華', '889,The Flintstones in Viva Rock Vegas', '462,Erin Brockovich', '1588,Bring It On', '15655,The Tigger Movie', '10393,The Replacements', '16187,Buzz Lightyear of Star Command: The Adventure Begins', '1597,Meet the Parents', '71,Billy Elliot', '10647,Pay It Forward', '12212,Urban Legends: Final Cut', '2067,Mission to Mars', '10571,Boys and Girls', \"24476,Beethoven's 3rd\", '2133,The Perfect Storm', '3134,Baise-moi', '10473,DragonHeart: A New Beginning', '17908,My Dog Skip', '2655,What Lies Beneath', '19457,The Yards', '5458,Cruel Intentions 2', '2440,공동경비구역 JSA', '2069,The Whole Nine Yards', '9456,The Crow: Salvation', '1907,The Beach', '10685,The Watcher', '40466,Crocodile', '327,Brother', '16990,エスカフローネ', \"5833,Casper's Haunted Christmas\", '11478,The Skulls', '20410,Scooby-Doo and the Alien Invaders', '8452,The 6th Day', '479,Shaft', '10468,28 Days', '20455,Digimon: The Movie', '10384,Supernova', '30628,The Miracle Maker', '12211,Highlander: Endgame', '10642,Loser', '4244,The Kid', '17711,The Adventures of Rocky & Bullwinkle', '318,The Million Dollar Hotel', '2046,The Gift', '21355,All the Pretty Horses', '11004,Wonder Boys', '4958,The Legend of Bagger Vance', '10461,Get Carter', '2621,Return to Me', '9674,リング０\\u3000バースデイ', '16,Dancer in the Dark', '24102,The Land Before Time VII: The Stone of Cold Fire', '10564,Where the Heart Is', '10385,Hanging Up', '10479,Rules of Engagement', '31347,劇場版 カードキャプターさくら 封印されたカード', '7450,Titan A.E.', '11826,Sexy Beast', \"8859,Dude, Where's My Car?\", '11678,Vertical Limit', '34070,Sånger från andra våningen', '243,High Fidelity', '12107,Nutty Professor II: The Klumps', '13785,Best in Show', '20677,名探偵コナン 瞳の中の暗殺者', '30970,Code inconnu', '10560,Center Stage', '10480,Nurse Betty', '2155,Reindeer Games', '10035,100 Girls', '11849,Dungeons & Dragons', '5001,Before Night Falls', '3536,U-571', '1619,The Way of the Gun', '10559,Frequency', '392,Chocolat', '29572,The Man Who Cried', '8843,The Cell', '8870,Red Planet', '48246,Alvin and the Chipmunks Meet the Wolfman', '10562,Under Suspicion', '11983,Proof of Life', '5491,Battlefield Earth', '10481,102 Dalmatians', \"37588,Bruce Lee: A Warrior's Journey\", '10641,Autumn in New York', '5551,Space Cowboys', '60670,Les Rivières pourpres', '42332,Santa Who?', '12609,Hjælp, jeg er en fisk', '1900,Traffic', '14805,Bait', '25538,一一', '10383,Lost Souls', '16340,Rugrats in Paris: The Movie', '25128,Love & Sex', '51767,Sexual Matrix', '711,Finding Forrester', '36968,Life-Size', '8653,섬', '12490,Ordinary Decent Criminal', \"20770,But I'm a Cheerleader\", '10569,Small Time Crooks', '4967,Keeping the Faith', '16222,Whatever It Takes', '2787,Pitch Black', '10876,Quills', '11119,Fortress 2', '11398,The Art of War', '14629,Woman on Top', '6521,The Contender', '34729,Our Lips Are Sealed', '14736,Love & Basketball', '12619,Cherry Falls', '10180,Blinkende lygter', '18074,Duets', '10391,Bless the Child', '20697,Ready to Rumble', '14181,Boiler Room', '13539,Here on Earth', '10862,Bounce', '10898,The Little Mermaid II: Return to the Sea', '10472,Down to You', '18079,Nueve reinas', '10429,Takedown', '75571,Digimon Adventure: Bokura no War Game', '641,Requiem for a Dream', '55888,Ed Gein', '18041,Gossip', '9011,The Prophecy 3: The Ascent', '20067,Things You Can Tell Just by Looking at Her', '16225,Heavy Metal 2000', '21174,劇場版 ああっ女神さまっ', '14195,Cecil B. Demented', '12650,시월애', '37302,Left Behind: The Movie', '14295,You Can Count on Me', '642698,Playboy: Sexy Shorts', '1831,The Next Best Thing', '9791,Animal Factory', '32834,MVP: Most Valuable Primate', '31352,映画ドラえもん のび太の太陽王伝説', '10416,What Planet Are You From?', '39242,The Other Me', '11518,मोहब्बतें', '13930,For the Birds', '11973,Thirteen Days', '65592,Princes et Princesses', '53986,バイオハザード フォーディ・エクゼクター', '50531,Chiedimi se sono felice', '29076,Gun Shy', '28031,If These Walls Could Talk 2', '25166,Drowning Mona', '47943,Harry, un ami qui vous veut du bien', '17208,Paradise Lost 2: Revelations', '15489,Snow Day', '10597,Kevin & Perry Go Large', '40096,O Auto da Compadecida', '49291,順流逆流', '13526,The Weight of Water', '10873,Shadow of the Vampire', '10763,Dr. T & the Women', '22230,Happy Accidents', '21991,State and Main', '16888,The Ladies Man', '2360,Saving Grace', '10687,Tigerland', '12509,Pollock', '27723,Psycho Beach Party', \"89473,Tweety's High Flying Adventure\", '742,Tillsammans', '9519,Chopper', '24664,Bamboozled', '32250,呪怨', '21531,플란다스의 개', '1698,Anatomie', '27444,Better Than Sex', '22597,The Broken Hearts Club: A Romantic Comedy', '7290,2001: A Space Travesty', '41245,박하사탕', '39468,ゴジラ×メガギラス G消滅作戦', '20993,Брат 2', '10783,Lucky Numbers', '33504,El Bola', '41275,Python', '17100,Trucks', '5257,The Dish', '10394,Gangster No. 1', '19348,Girlfight', '27181,O Fantasma', '552,Pane e tulipani', '5842,ヴァーサス', '14273,Dark Days', '29458,I cento passi', '40039,Spiders', '10688,Hamlet', '41282,Skipped Parts', '43555,Body Guards - Guardie del Corpo', '13966,Maybe Baby', '97351,फिर भी दिल है हिंदुस्तानी', '4973,Sous le Sable', '60489,The Last Patrol', '37722,Waking the Dead', '112,Italiensk for begyndere', \"92208,Mom's Got a Date with a Vampire\", '200995,청춘', '7093,Vatel', '16110,Thomas and the Magic Railroad', '21614,Hera Pheri', '3716,Im Juli', '55101,The Guilty', '72087,A Shot at Glory', '48328,Les acteurs', '28346,Krocodylus', '11477,La comunidad', '44379,Les Glaneurs et la Glaneuse', '15940,Beautiful Creatures', '27745,The Filth and the Fury', '34299,Beautiful', '20637,Panic', '47816,3 Strikes', '44203,呪怨2 ビデオ版', '44015,The Prime Gig', '62182,AMON デビルマン黙示録', \"16275,Dave Chappelle: Killin' Them Softly\", \"1609,There's Only One Jimmy Grimble\", '29122,An Everlasting Piece', \"4369,Juste une question d'amour\", '11366,うずまき', '23990,Scarlet Diva', '36047,The In Crowd', '29512,Bruiser', '37691,Bread and Roses', '3178,Beat', '49453,Fast Food Fast Women', '72753,Alley Cats Strike', '41656,Octopus', \"51333,Love's Labour's Lost\", '16987,कहो ना प्यार है', '26450,Phantom of the Megaplex', '50008,RKO 281', '98299,デジモンアドベンチャー02 前編・デジモンハリケーン上陸!!／後編・超絶進化!!黄金のデジメンタル']\n"
          ]
        }
      ]
    },
    {
      "cell_type": "code",
      "metadata": {
        "colab": {
          "base_uri": "https://localhost:8080/"
        },
        "id": "0tCLOAQXG2tH",
        "outputId": "e0812554-3139-4093-ba5f-f684b3631e1a"
      },
      "source": [
        "df=pd.DataFrame(list)\n",
        "print(df)"
      ],
      "execution_count": 106,
      "outputs": [
        {
          "output_type": "stream",
          "name": "stdout",
          "text": [
            "                                                     0\n",
            "0                                         10867,Malèna\n",
            "1                  8871,How the Grinch Stole Christmas\n",
            "2                                     4247,Scary Movie\n",
            "3                       11688,The Emperor's New Groove\n",
            "4                                       10567,Dinosaur\n",
            "..                                                 ...\n",
            "295                         51333,Love's Labour's Lost\n",
            "296                              16987,कहो ना प्यार है\n",
            "297                      26450,Phantom of the Megaplex\n",
            "298                                      50008,RKO 281\n",
            "299  98299,デジモンアドベンチャー02 前編・デジモンハリケーン上陸!!／後編・超絶進化!!...\n",
            "\n",
            "[300 rows x 1 columns]\n"
          ]
        }
      ]
    },
    {
      "cell_type": "code",
      "metadata": {
        "id": "4kt2ddmnHCnM"
      },
      "source": [
        "df.to_csv('movie_ID_name.csv')"
      ],
      "execution_count": 107,
      "outputs": []
    },
    {
      "cell_type": "code",
      "metadata": {
        "id": "c7fhk1F1RMjh"
      },
      "source": [
        "ans_id=[]\n"
      ],
      "execution_count": 134,
      "outputs": []
    },
    {
      "cell_type": "code",
      "metadata": {
        "id": "2VcdknXcHjzj"
      },
      "source": [
        "def similar(id):\n",
        "  url = 'https://api.themoviedb.org/3/movie/'+str(id)+'/similar?api_key=fd7af4cb49f666926527926361e177cc&language=en-US&page=1'\n",
        "  response = rq.get(url)\n",
        "  response_json = response.json()\n",
        "  x1=response_json['results']\n",
        "  z=len(x1)\n",
        "  if z>5:\n",
        "    z=5\n",
        "  for i in range(0,z):\n",
        "    l=str(id)+','+str(x1[i]['id'])\n",
        "    t=str(x1[i]['id'])+','+str(id)\n",
        "    if t not in ans_id:\n",
        "      ans_id.append(l)"
      ],
      "execution_count": 135,
      "outputs": []
    },
    {
      "cell_type": "code",
      "metadata": {
        "colab": {
          "base_uri": "https://localhost:8080/"
        },
        "id": "dNWJIMUJUx3h",
        "outputId": "27e216fb-edf5-4256-e19c-779a10354b86"
      },
      "source": [
        "\n",
        "for j in range(0,len(id_list)):\n",
        "  similar(id_list[j])\n",
        "\n",
        "print(len(ans_id))\n",
        "  "
      ],
      "execution_count": 136,
      "outputs": [
        {
          "output_type": "stream",
          "name": "stdout",
          "text": [
            "1495\n"
          ]
        }
      ]
    },
    {
      "cell_type": "code",
      "metadata": {
        "colab": {
          "base_uri": "https://localhost:8080/"
        },
        "id": "pt1XljaQYpmu",
        "outputId": "4538affd-7d12-42ed-8418-0f44ca2777da"
      },
      "source": [
        "df1=pd.DataFrame(ans_id)\n",
        "print(df1)"
      ],
      "execution_count": 137,
      "outputs": [
        {
          "output_type": "stream",
          "name": "stdout",
          "text": [
            "                0\n",
            "0     10867,50124\n",
            "1     10867,55721\n",
            "2     10867,57157\n",
            "3     10867,49520\n",
            "4     10867,54318\n",
            "...           ...\n",
            "1490  98299,75624\n",
            "1491  98299,75629\n",
            "1492  98299,68555\n",
            "1493  98299,73245\n",
            "1494  98299,66105\n",
            "\n",
            "[1495 rows x 1 columns]\n"
          ]
        }
      ]
    },
    {
      "cell_type": "code",
      "metadata": {
        "id": "53KsP1IqcHf3"
      },
      "source": [
        "df1.to_csv('movie_ID_sim_movie_ID.csv')"
      ],
      "execution_count": 138,
      "outputs": []
    }
  ]
}